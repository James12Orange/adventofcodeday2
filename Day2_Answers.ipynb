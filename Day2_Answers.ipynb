{
 "cells": [
  {
   "cell_type": "code",
   "execution_count": 1,
   "id": "24486a70",
   "metadata": {},
   "outputs": [],
   "source": [
    "import numpy as np\n",
    "import pandas as pd\n",
    "\n",
    "df = pd.read_excel(r'C:\\Users\\jmo5660\\AdventofCode\\InputDay2.xlsx')"
   ]
  },
  {
   "cell_type": "code",
   "execution_count": 2,
   "id": "c71efc19",
   "metadata": {},
   "outputs": [],
   "source": [
    "df2 = pd.pivot_table(df,values=\"Magnitude\", index='Direction', columns=None,aggfunc=\"sum\")"
   ]
  },
  {
   "cell_type": "code",
   "execution_count": 3,
   "id": "ea0129bb",
   "metadata": {},
   "outputs": [
    {
     "name": "stdout",
     "output_type": "stream",
     "text": [
      "           Magnitude\n",
      "Direction           \n",
      "down            1843\n",
      "forward         2033\n",
      "up              1075\n"
     ]
    }
   ],
   "source": [
    "check = df2\n",
    "print(check)"
   ]
  },
  {
   "cell_type": "code",
   "execution_count": 6,
   "id": "f6b258f3",
   "metadata": {},
   "outputs": [
    {
     "name": "stdout",
     "output_type": "stream",
     "text": [
      "            sum  count\n",
      "Direction             \n",
      "down       1843    367\n",
      "forward    2033    419\n",
      "up         1075    214\n"
     ]
    }
   ],
   "source": [
    "df3 = df.groupby('Direction').Magnitude.agg(['sum','count']).head()\n",
    "print(df3)"
   ]
  },
  {
   "cell_type": "code",
   "execution_count": 7,
   "id": "3fd9e05b",
   "metadata": {},
   "outputs": [
    {
     "name": "stdout",
     "output_type": "stream",
     "text": [
      "            sum  count   average\n",
      "Direction                       \n",
      "down       1843    367  5.021798\n",
      "forward    2033    419  4.852029\n",
      "up         1075    214  5.023364\n"
     ]
    }
   ],
   "source": [
    "df3['average'] = df3['sum']/df3['count']\n",
    "print(df3)"
   ]
  },
  {
   "cell_type": "code",
   "execution_count": 10,
   "id": "cab556d8",
   "metadata": {},
   "outputs": [
    {
     "name": "stdout",
     "output_type": "stream",
     "text": [
      "1561344\n"
     ]
    }
   ],
   "source": [
    "#calculate part 1 answer\n",
    "part1_answer = (1843 - 1075) * 2033\n",
    "print(part1_answer)"
   ]
  },
  {
   "cell_type": "code",
   "execution_count": 11,
   "id": "379f9c44",
   "metadata": {},
   "outputs": [
    {
     "name": "stdout",
     "output_type": "stream",
     "text": [
      "            sum  count   average     aim\n",
      "Direction                               \n",
      "down       1843    367  5.021798  676381\n",
      "forward    2033    419  4.852029  851827\n",
      "up         1075    214  5.023364  230050\n"
     ]
    }
   ],
   "source": [
    "df3['aim'] = df3['sum']*df3['count']\n",
    "print(df3)"
   ]
  },
  {
   "cell_type": "code",
   "execution_count": 19,
   "id": "43e1dd9c",
   "metadata": {},
   "outputs": [
    {
     "name": "stdout",
     "output_type": "stream",
     "text": [
      "Final Aim: 768\n",
      "X position: 2033\n",
      "Y position: 909225\n",
      "Part 2 Answer: 1848454425\n"
     ]
    }
   ],
   "source": [
    "#part 2\n",
    "pos_x = 0 \n",
    "pos_y = 0\n",
    "aim = 0\n",
    "\n",
    "df4 = df.values.tolist()\n",
    "\n",
    "for key,value in df4:\n",
    "    if key == 'forward':\n",
    "        pos_x += value\n",
    "        pos_y += (aim*value)\n",
    "    elif key == 'up':\n",
    "        aim -= value\n",
    "    else:\n",
    "        aim += value\n",
    "\n",
    "final_answer = pos_x * pos_y \n",
    "\n",
    "print(f\"Final Aim: {aim}\")\n",
    "print(f\"X position: {pos_x}\")\n",
    "print(f\"Y position: {pos_y}\")\n",
    "print(f\"Part 2 Answer: {final_answer}\")\n"
   ]
  },
  {
   "cell_type": "code",
   "execution_count": null,
   "id": "63d862bd",
   "metadata": {},
   "outputs": [],
   "source": []
  }
 ],
 "metadata": {
  "kernelspec": {
   "display_name": "Python 3",
   "language": "python",
   "name": "python3"
  },
  "language_info": {
   "codemirror_mode": {
    "name": "ipython",
    "version": 3
   },
   "file_extension": ".py",
   "mimetype": "text/x-python",
   "name": "python",
   "nbconvert_exporter": "python",
   "pygments_lexer": "ipython3",
   "version": "3.8.8"
  }
 },
 "nbformat": 4,
 "nbformat_minor": 5
}
